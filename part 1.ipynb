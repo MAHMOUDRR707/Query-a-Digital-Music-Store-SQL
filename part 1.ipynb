{
  "nbformat": 4,
  "nbformat_minor": 0,
  "metadata": {
    "colab": {
      "name": "Lab1.sql",
      "provenance": []
    },
    "kernelspec": {
      "name": "python3",
      "display_name": "Python 3"
    },
    "language_info": {
      "name": "python"
    }
  },
  "cells": [
    {
      "cell_type": "markdown",
      "metadata": {
        "id": "9CKr-iGz208r"
      },
      "source": [
        "**Q1**\n",
        "\n",
        "The Chinook database contains all invoices from the beginning of 2009 till the end of 2013. The employees at Chinook store are interested in seeing all invoices that happened in 2013 only. Using the Invoice table, write a query that returns all the info of the invoices in 2013."
      ]
    },
    {
      "cell_type": "code",
      "metadata": {
        "id": "iICZYt_s26j8"
      },
      "source": [
        "SELECT *\n",
        "FROM Invoice\n",
        "Where InvoiceId >=333\n"
      ],
      "execution_count": null,
      "outputs": []
    },
    {
      "cell_type": "markdown",
      "metadata": {
        "id": "_jClBhdP3DFx"
      },
      "source": [
        "**Q2**\n",
        "\n",
        "The Chinook team decided to run a marketing campaign in Brazil, Canada, india, and Sweden. Using the customer table, write a query that returns the first name, last name, and country for all customers from the 4 countries."
      ]
    },
    {
      "cell_type": "code",
      "metadata": {
        "id": "WsV9kJ1n3K-i"
      },
      "source": [
        "SELECT firstName,lastName,country\n",
        " FROM customer\n",
        " WHERE country IN(\"Brazil\",\"Canada\",\"India\",\"Sweden\");"
      ],
      "execution_count": null,
      "outputs": []
    },
    {
      "cell_type": "markdown",
      "metadata": {
        "id": "Gt-Q6ly83Szd"
      },
      "source": [
        "**Q3**\n",
        "\n",
        "Using the Track and Album tables, write a query that returns all the songs that start with the letter 'A' and the composer field is not empty. Your query should return the name of the song, the name of the composer, and the title of the album."
      ]
    },
    {
      "cell_type": "code",
      "metadata": {
        "id": "_e5-TRMu3WIu"
      },
      "source": [
        "SELECT Track.name, Track.Composer, Album.Title \n",
        "FROM Track\n",
        "JOIN Album\n",
        "ON Track.AlbumId = Album.AlbumId\n",
        "WHERE Track.name LIKE 'A%' AND Track.Composer NOT LIKE '';\n"
      ],
      "execution_count": null,
      "outputs": []
    },
    {
      "cell_type": "markdown",
      "metadata": {
        "id": "HY-27XcP3a8_"
      },
      "source": [
        "**Q4**\n",
        "\n",
        "The Chinook team would like to throw a promotional Music Festival for their top 10 cutomers who have spent the most in a single invoice. Write a query that returns the first name, last name, and invoice total for the top 10 invoices ordered by invoice total descending."
      ]
    },
    {
      "cell_type": "code",
      "metadata": {
        "id": "lpbD1Ryh4p04"
      },
      "source": [
        "SELECT C.Firstname,C.Lastname,I.Total\n",
        "FROM Customer AS C\n",
        "JOIN Invoice AS I\n",
        "ON C.CustomerId =I.CustomerId\n",
        "ORDER BY I.total DESC\n",
        "LIMIT 10"
      ],
      "execution_count": null,
      "outputs": []
    }
  ]
}