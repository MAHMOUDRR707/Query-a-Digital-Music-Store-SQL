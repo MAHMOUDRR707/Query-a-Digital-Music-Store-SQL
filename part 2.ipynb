{
  "nbformat": 4,
  "nbformat_minor": 0,
  "metadata": {
    "colab": {
      "name": "Lab2.sql",
      "provenance": []
    },
    "kernelspec": {
      "name": "python3",
      "display_name": "Python 3"
    },
    "language_info": {
      "name": "python"
    }
  },
  "cells": [
    {
      "cell_type": "markdown",
      "metadata": {
        "id": "9CKr-iGz208r"
      },
      "source": [
        "Q1\n",
        "\n",
        "Use the Invoice table to determine the countries that have the most invoices. Provide a table of BillingCountry and Invoices ordered by the number of invoices for each country. The country with the most invoices should appear first."
      ]
    },
    {
      "cell_type": "code",
      "metadata": {
        "id": "iICZYt_s26j8"
      },
      "source": [
        "select billingcountry, Count(*) as number_invoices from Invoice\n",
        "group by 1\n",
        "order by 2 desc\n"
      ],
      "execution_count": null,
      "outputs": []
    },
    {
      "cell_type": "markdown",
      "metadata": {
        "id": "_jClBhdP3DFx"
      },
      "source": [
        "**Q2**\n",
        "\n",
        "We would like to throw a promotional Music Festival in the city we made the most money. Write a query that returns the 1 city that has the highest sum of invoice totals. Return both the city name and the sum of all invoice totals.\n",
        "\n",
        "**check your solution**\n",
        "\n",
        "The top city for Invoice dollars was Prague with an amount of 90.24"
      ]
    },
    {
      "cell_type": "code",
      "metadata": {
        "id": "WsV9kJ1n3K-i"
      },
      "source": [
        "select billingcity,sum(total) as invoice_totals from Invoice\n",
        "\n",
        "group by 1\n",
        "order by 2 Desc\n",
        "limit 1"
      ],
      "execution_count": null,
      "outputs": []
    },
    {
      "cell_type": "markdown",
      "metadata": {
        "id": "Gt-Q6ly83Szd"
      },
      "source": [
        "**Q3**\n",
        "\n",
        "The customer who has spent the most money will be declared the best customer. Build a query that returns the person who has spent the most money. I found the solution by linking the following three: Invoice, InvoiceLine, and Customer tables to retrieve this information, but you can probably do it with fewer!\n",
        "\n",
        "**check your solution**\n",
        "\n",
        "The customer who spent the most according to invoices was Customer 6 with 49.62 in purchases."
      ]
    },
    {
      "cell_type": "code",
      "metadata": {
        "id": "_e5-TRMu3WIu"
      },
      "source": [
        "select c.CustomerId,\n",
        "c.FirstName,\n",
        "c.LastName,\n",
        "sum(inv.UnitPrice) as invoices\n",
        "from Invoice i\n",
        "join InvoiceLine inv\n",
        "on inv.Invoiceid = i.Invoiceid\n",
        "join customer c\n",
        "on c.customerid = i.customerid\n",
        "group by c.CustomerId,c.FirstName,c.LastName\n",
        "order by i.total desc\n",
        "limit 1"
      ],
      "execution_count": null,
      "outputs": []
    },
    {
      "cell_type": "markdown",
      "metadata": {
        "id": "HY-27XcP3a8_"
      },
      "source": [
        "**Q4**\n",
        "\n",
        "The team at Chinook would like to identify all the customers who listen to Rock music. Write a query to return the email, first name, last name, and Genre of all Rock Music listeners. Return your list ordered alphabetically by email address starting with 'A'.\n",
        "\n",
        "**Check your solution**\n",
        "\n",
        "Your final table should have 59 rows and 4 columns."
      ]
    },
    {
      "cell_type": "code",
      "metadata": {
        "id": "3V2clCU63dJe"
      },
      "source": [
        "Select C.Email,C.FirstName,C.LastName,G.Name\n",
        "From Customer C\n",
        "Join Invoice I\n",
        "On C.CustomerId= I.CustomerId\n",
        "Join InvoiceLine Inv\n",
        "On I.InvoiceId= Inv.InvoiceId\n",
        "Join Track T\n",
        "On T.TrackId = Inv.TrackId\n",
        "Join Genre G\n",
        "On G.GenreId = T.GenreId\n",
        "where G.Name = 'Rock'\n",
        "group by Email"
      ],
      "execution_count": null,
      "outputs": []
    },
    {
      "cell_type": "markdown",
      "metadata": {
        "id": "YiAVu_xk4lmQ"
      },
      "source": [
        "**Q5**\n",
        "\n",
        "Write a query that determines the customer that has spent the most on music for each country. Write a query that returns the country along with the top customer and how much they spent. For countries where the top amount spent is shared, provide all customers who spent this amount.\n",
        "\n",
        "You should only need to use the Customer and Invoice tables.\n",
        "\n",
        "**Check Your Solution**\n",
        "\n",
        "Though there are only 24 countries, your query should return 25 rows because the United Kingdom has 2 customers that share the maximum."
      ]
    },
    {
      "cell_type": "code",
      "metadata": {
        "id": "lpbD1Ryh4p04"
      },
      "source": [
        "with c as(select Invoice.CustomerId as id_cst, Invoice.BillingCountry as Country, sum(Invoice.Total) as som from Invoice\n",
        "join Customer on Invoice.BillingCountry = Customer.Country and Invoice.CustomerId = Customer.CustomerId\n",
        "group by 1,2\n",
        "order by 2 ),\n",
        "Customers as (select Customer.CustomerId as cust_id, Customer.FirstName as name_customer, Customer.LastName as lastname_customer from Customer)\n",
        "\n",
        "select customers.cust_id, customers.name_customer,customers.lastname_customer, b.country, b.max_som from Customers,\n",
        "(select a.country as country, max(a.som) as max_som from\n",
        "(select Invoice.CustomerId as id_cst, Invoice.BillingCountry as Country, sum(Invoice.Total) as som from Invoice join Customer on Invoice.BillingCountry = Customer.Country and Invoice.CustomerId = Customer.CustomerId\n",
        "group by 1,2\n",
        "order by 2 ) as a\n",
        "group by 1\n",
        "order by 2 ) as b\n",
        "join c\n",
        "on c.country = b.country and c.som = b.max_som\n",
        "where Customers.cust_id = c.id_cst"
      ],
      "execution_count": null,
      "outputs": []
    }
  ]
}